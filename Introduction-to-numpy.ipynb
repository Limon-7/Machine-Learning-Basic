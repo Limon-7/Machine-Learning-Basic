{
 "cells": [
  {
   "cell_type": "code",
   "execution_count": 2,
   "id": "ef397fd0",
   "metadata": {},
   "outputs": [],
   "source": [
    "import numpy as np"
   ]
  },
  {
   "cell_type": "code",
   "execution_count": 3,
   "id": "a29bfe0c",
   "metadata": {},
   "outputs": [],
   "source": [
    "## numpy basic datatype is ndarray\n",
    "a1=np.array([1,2,3])"
   ]
  },
  {
   "cell_type": "code",
   "execution_count": 4,
   "id": "596fd9d0",
   "metadata": {},
   "outputs": [
    {
     "data": {
      "text/plain": [
       "numpy.ndarray"
      ]
     },
     "execution_count": 4,
     "metadata": {},
     "output_type": "execute_result"
    }
   ],
   "source": [
    "type(a1)"
   ]
  },
  {
   "cell_type": "code",
   "execution_count": 5,
   "id": "5a6e0d98",
   "metadata": {},
   "outputs": [
    {
     "name": "stdout",
     "output_type": "stream",
     "text": [
      "[[[ 1.   2.1  3. ]\n",
      "  [ 4.   2.1  6. ]\n",
      "  [ 7.   8.   9. ]]\n",
      "\n",
      " [[10.  11.  12. ]\n",
      "  [13.  14.  15. ]\n",
      "  [16.  17.  18. ]]]\n"
     ]
    }
   ],
   "source": [
    "a2=np.array([\n",
    "    [1,2.1,3],\n",
    "    [4,5,6]\n",
    "])\n",
    "a3=np.array([[[1,2.1,3],\n",
    "              [4,2.1,6],[7,8,9]\n",
    "             ],\n",
    "             [[10,11,12],\n",
    "              [13,14,15],\n",
    "              [16,17,18]]\n",
    "            ])\n",
    "print(a3)"
   ]
  },
  {
   "cell_type": "code",
   "execution_count": 6,
   "id": "29f93044",
   "metadata": {},
   "outputs": [
    {
     "data": {
      "text/plain": [
       "(3,)"
      ]
     },
     "execution_count": 6,
     "metadata": {},
     "output_type": "execute_result"
    }
   ],
   "source": [
    "a1.shape"
   ]
  },
  {
   "cell_type": "code",
   "execution_count": 7,
   "id": "a000c12f",
   "metadata": {},
   "outputs": [
    {
     "data": {
      "text/plain": [
       "(2, 3)"
      ]
     },
     "execution_count": 7,
     "metadata": {},
     "output_type": "execute_result"
    }
   ],
   "source": [
    "a2.shape"
   ]
  },
  {
   "cell_type": "code",
   "execution_count": 8,
   "id": "c6d34e77",
   "metadata": {},
   "outputs": [
    {
     "data": {
      "text/plain": [
       "(2, 3, 3)"
      ]
     },
     "execution_count": 8,
     "metadata": {},
     "output_type": "execute_result"
    }
   ],
   "source": [
    "## shape returns (axis=0, axis=1, axis=n) \n",
    "## axis(0)= no of rows,\n",
    "## axis(1)= no of columns,\n",
    "## axis(n)= no of blocks,\n",
    "\n",
    "a3.shape"
   ]
  },
  {
   "cell_type": "code",
   "execution_count": 9,
   "id": "d75d8070",
   "metadata": {},
   "outputs": [
    {
     "data": {
      "text/plain": [
       "(1, 2, 3)"
      ]
     },
     "execution_count": 9,
     "metadata": {},
     "output_type": "execute_result"
    }
   ],
   "source": [
    "## print the dimention of an array\n",
    "a1.ndim, a2.ndim, a3.ndim"
   ]
  },
  {
   "cell_type": "code",
   "execution_count": 10,
   "id": "a5aeeef7",
   "metadata": {},
   "outputs": [
    {
     "data": {
      "text/plain": [
       "(dtype('int32'), dtype('float64'), dtype('float64'))"
      ]
     },
     "execution_count": 10,
     "metadata": {},
     "output_type": "execute_result"
    }
   ],
   "source": [
    "# show the datatype\n",
    "a1.dtype, a2.dtype, a2.dtype"
   ]
  },
  {
   "cell_type": "code",
   "execution_count": 11,
   "id": "b7f8382c",
   "metadata": {},
   "outputs": [
    {
     "data": {
      "text/plain": [
       "(3, 6, 18)"
      ]
     },
     "execution_count": 11,
     "metadata": {},
     "output_type": "execute_result"
    }
   ],
   "source": [
    "#size= how many elements there\n",
    "a1.size, a2.size, a3.size"
   ]
  },
  {
   "cell_type": "code",
   "execution_count": 12,
   "id": "985ad1cb",
   "metadata": {},
   "outputs": [
    {
     "data": {
      "text/plain": [
       "(numpy.ndarray, numpy.ndarray, numpy.ndarray)"
      ]
     },
     "execution_count": 12,
     "metadata": {},
     "output_type": "execute_result"
    }
   ],
   "source": [
    "## type(): return a ndarray data type\n",
    "type(a1), type(a2), type(a3)"
   ]
  },
  {
   "cell_type": "code",
   "execution_count": 13,
   "id": "3126e679",
   "metadata": {},
   "outputs": [
    {
     "data": {
      "text/html": [
       "<div>\n",
       "<style scoped>\n",
       "    .dataframe tbody tr th:only-of-type {\n",
       "        vertical-align: middle;\n",
       "    }\n",
       "\n",
       "    .dataframe tbody tr th {\n",
       "        vertical-align: top;\n",
       "    }\n",
       "\n",
       "    .dataframe thead th {\n",
       "        text-align: right;\n",
       "    }\n",
       "</style>\n",
       "<table border=\"1\" class=\"dataframe\">\n",
       "  <thead>\n",
       "    <tr style=\"text-align: right;\">\n",
       "      <th></th>\n",
       "      <th>0</th>\n",
       "      <th>1</th>\n",
       "      <th>2</th>\n",
       "    </tr>\n",
       "  </thead>\n",
       "  <tbody>\n",
       "    <tr>\n",
       "      <th>0</th>\n",
       "      <td>1.0</td>\n",
       "      <td>2.1</td>\n",
       "      <td>3.0</td>\n",
       "    </tr>\n",
       "    <tr>\n",
       "      <th>1</th>\n",
       "      <td>4.0</td>\n",
       "      <td>5.0</td>\n",
       "      <td>6.0</td>\n",
       "    </tr>\n",
       "  </tbody>\n",
       "</table>\n",
       "</div>"
      ],
      "text/plain": [
       "     0    1    2\n",
       "0  1.0  2.1  3.0\n",
       "1  4.0  5.0  6.0"
      ]
     },
     "execution_count": 13,
     "metadata": {},
     "output_type": "execute_result"
    }
   ],
   "source": [
    "# create a DataFrame from a Numpy array\n",
    "import pandas as pd\n",
    "df=pd.DataFrame(a2)\n",
    "df"
   ]
  },
  {
   "cell_type": "markdown",
   "id": "e56eb5d8",
   "metadata": {},
   "source": [
    "## 2. Create Array"
   ]
  },
  {
   "cell_type": "code",
   "execution_count": 14,
   "id": "0a240e32",
   "metadata": {},
   "outputs": [
    {
     "data": {
      "text/plain": [
       "array([1, 2, 3])"
      ]
     },
     "execution_count": 14,
     "metadata": {},
     "output_type": "execute_result"
    }
   ],
   "source": [
    "sample_array= np.array([1,2,3.4], dtype=int)\n",
    "sample_array"
   ]
  },
  {
   "cell_type": "code",
   "execution_count": 15,
   "id": "9e02deec",
   "metadata": {},
   "outputs": [
    {
     "data": {
      "text/plain": [
       "dtype('int32')"
      ]
     },
     "execution_count": 15,
     "metadata": {},
     "output_type": "execute_result"
    }
   ],
   "source": [
    "sample_array.dtype"
   ]
  },
  {
   "cell_type": "code",
   "execution_count": 16,
   "id": "e9e29c23",
   "metadata": {},
   "outputs": [],
   "source": [
    "ones= np.ones((2,4,2), int)"
   ]
  },
  {
   "cell_type": "code",
   "execution_count": 17,
   "id": "b129d361",
   "metadata": {},
   "outputs": [
    {
     "data": {
      "text/plain": [
       "numpy.ndarray"
      ]
     },
     "execution_count": 17,
     "metadata": {},
     "output_type": "execute_result"
    }
   ],
   "source": [
    "type(ones)"
   ]
  },
  {
   "cell_type": "code",
   "execution_count": 18,
   "id": "cf0cc7ec",
   "metadata": {},
   "outputs": [
    {
     "data": {
      "text/plain": [
       "array([[[1, 1],\n",
       "        [1, 1],\n",
       "        [1, 1],\n",
       "        [1, 1]],\n",
       "\n",
       "       [[1, 1],\n",
       "        [1, 1],\n",
       "        [1, 1],\n",
       "        [1, 1]]])"
      ]
     },
     "execution_count": 18,
     "metadata": {},
     "output_type": "execute_result"
    }
   ],
   "source": [
    "ones"
   ]
  },
  {
   "cell_type": "code",
   "execution_count": 19,
   "id": "402f66e3",
   "metadata": {},
   "outputs": [],
   "source": [
    "zeros= np.zeros((2,3))"
   ]
  },
  {
   "cell_type": "code",
   "execution_count": 20,
   "id": "cf978fad",
   "metadata": {},
   "outputs": [
    {
     "data": {
      "text/plain": [
       "array([[0., 0., 0.],\n",
       "       [0., 0., 0.]])"
      ]
     },
     "execution_count": 20,
     "metadata": {},
     "output_type": "execute_result"
    }
   ],
   "source": [
    "zeros"
   ]
  },
  {
   "cell_type": "code",
   "execution_count": 21,
   "id": "128cade6",
   "metadata": {},
   "outputs": [
    {
     "data": {
      "text/plain": [
       "array([0, 2, 4, 6, 8])"
      ]
     },
     "execution_count": 21,
     "metadata": {},
     "output_type": "execute_result"
    }
   ],
   "source": [
    "range_array=np.arange(0,10,2)\n",
    "range_array"
   ]
  },
  {
   "cell_type": "code",
   "execution_count": 22,
   "id": "389b6e2c",
   "metadata": {},
   "outputs": [
    {
     "data": {
      "text/plain": [
       "array([[[2, 6, 3],\n",
       "        [7, 6, 0],\n",
       "        [8, 5, 2],\n",
       "        [7, 9, 0],\n",
       "        [5, 0, 5]],\n",
       "\n",
       "       [[1, 6, 1],\n",
       "        [5, 3, 4],\n",
       "        [9, 2, 5],\n",
       "        [6, 5, 3],\n",
       "        [1, 2, 2]],\n",
       "\n",
       "       [[4, 5, 4],\n",
       "        [0, 4, 9],\n",
       "        [1, 0, 5],\n",
       "        [1, 2, 6],\n",
       "        [7, 1, 5]]])"
      ]
     },
     "execution_count": 22,
     "metadata": {},
     "output_type": "execute_result"
    }
   ],
   "source": [
    "random_array=np.random.randint(0,10, size=(3,5,3))\n",
    "random_array"
   ]
  },
  {
   "cell_type": "code",
   "execution_count": 23,
   "id": "ddc4610d",
   "metadata": {},
   "outputs": [
    {
     "data": {
      "text/plain": [
       "(3, 5, 3)"
      ]
     },
     "execution_count": 23,
     "metadata": {},
     "output_type": "execute_result"
    }
   ],
   "source": [
    "random_array.shape"
   ]
  },
  {
   "cell_type": "code",
   "execution_count": 24,
   "id": "267845b8",
   "metadata": {},
   "outputs": [
    {
     "data": {
      "text/plain": [
       "array([[0.93852739, 0.68163226, 0.3232361 ],\n",
       "       [0.12902874, 0.19366227, 0.90880707],\n",
       "       [0.11449933, 0.89914713, 0.00918215],\n",
       "       [0.35082955, 0.16368133, 0.43505275],\n",
       "       [0.62350522, 0.66447176, 0.27193337]])"
      ]
     },
     "execution_count": 24,
     "metadata": {},
     "output_type": "execute_result"
    }
   ],
   "source": [
    "random_array_2= np.random.random((5,3))\n",
    "\n",
    "random_array_2"
   ]
  },
  {
   "cell_type": "code",
   "execution_count": 25,
   "id": "18740642",
   "metadata": {},
   "outputs": [
    {
     "data": {
      "text/plain": [
       "(5, 3)"
      ]
     },
     "execution_count": 25,
     "metadata": {},
     "output_type": "execute_result"
    }
   ],
   "source": [
    "random_array_2.shape"
   ]
  },
  {
   "cell_type": "code",
   "execution_count": 26,
   "id": "a52b25d3",
   "metadata": {},
   "outputs": [
    {
     "data": {
      "text/plain": [
       "array([[0.13359148, 0.5786802 ],\n",
       "       [0.14964182, 0.19610273],\n",
       "       [0.90034616, 0.75447739],\n",
       "       [0.24029324, 0.19317073],\n",
       "       [0.45503788, 0.21193813]])"
      ]
     },
     "execution_count": 26,
     "metadata": {},
     "output_type": "execute_result"
    }
   ],
   "source": [
    "random_array_3= np.random.rand(5,2)\n",
    "random_array_3"
   ]
  },
  {
   "cell_type": "code",
   "execution_count": 27,
   "id": "13672c74",
   "metadata": {},
   "outputs": [
    {
     "data": {
      "text/plain": [
       "array([[2, 6, 9],\n",
       "       [4, 3, 1],\n",
       "       [0, 8, 7],\n",
       "       [5, 2, 5],\n",
       "       [5, 4, 8]])"
      ]
     },
     "execution_count": 27,
     "metadata": {},
     "output_type": "execute_result"
    }
   ],
   "source": [
    " # pseudo-random numbers\n",
    "np.random.seed(seed=666) # no matter what we put on seed value same number\n",
    "random_array_4= np.random.randint(10, size=(5,3))\n",
    "random_array_4"
   ]
  },
  {
   "cell_type": "markdown",
   "id": "57488b23",
   "metadata": {},
   "source": [
    "## Viewing Arrays and Matrix"
   ]
  },
  {
   "cell_type": "code",
   "execution_count": 28,
   "id": "3ab5cd86",
   "metadata": {},
   "outputs": [
    {
     "data": {
      "text/plain": [
       "array([0, 1, 2, 3, 4, 5, 6, 7, 8, 9])"
      ]
     },
     "execution_count": 28,
     "metadata": {},
     "output_type": "execute_result"
    }
   ],
   "source": [
    "np.unique(random_array_4)"
   ]
  },
  {
   "cell_type": "code",
   "execution_count": 29,
   "id": "b3443a56",
   "metadata": {},
   "outputs": [
    {
     "data": {
      "text/plain": [
       "array([1, 2, 3])"
      ]
     },
     "execution_count": 29,
     "metadata": {},
     "output_type": "execute_result"
    }
   ],
   "source": [
    "a1"
   ]
  },
  {
   "cell_type": "code",
   "execution_count": 30,
   "id": "52fb9fab",
   "metadata": {},
   "outputs": [
    {
     "data": {
      "text/plain": [
       "array([[1. , 2.1, 3. ],\n",
       "       [4. , 5. , 6. ]])"
      ]
     },
     "execution_count": 30,
     "metadata": {},
     "output_type": "execute_result"
    }
   ],
   "source": [
    "a2"
   ]
  },
  {
   "cell_type": "code",
   "execution_count": null,
   "id": "af3cbfb1",
   "metadata": {},
   "outputs": [],
   "source": []
  },
  {
   "cell_type": "code",
   "execution_count": 31,
   "id": "3ed0293b",
   "metadata": {},
   "outputs": [
    {
     "data": {
      "text/plain": [
       "array([[[ 1. ,  2.1,  3. ],\n",
       "        [ 4. ,  2.1,  6. ],\n",
       "        [ 7. ,  8. ,  9. ]],\n",
       "\n",
       "       [[10. , 11. , 12. ],\n",
       "        [13. , 14. , 15. ],\n",
       "        [16. , 17. , 18. ]]])"
      ]
     },
     "execution_count": 31,
     "metadata": {},
     "output_type": "execute_result"
    }
   ],
   "source": [
    "a3"
   ]
  },
  {
   "cell_type": "code",
   "execution_count": 32,
   "id": "28ed80d0",
   "metadata": {},
   "outputs": [
    {
     "data": {
      "text/plain": [
       "array([[[ 1. ,  2.1],\n",
       "        [ 4. ,  2.1]],\n",
       "\n",
       "       [[10. , 11. ],\n",
       "        [13. , 14. ]]])"
      ]
     },
     "execution_count": 32,
     "metadata": {},
     "output_type": "execute_result"
    }
   ],
   "source": [
    "a3[:2,:2, :2]"
   ]
  },
  {
   "cell_type": "code",
   "execution_count": 33,
   "id": "8cf0e0ab",
   "metadata": {},
   "outputs": [
    {
     "data": {
      "text/plain": [
       "(1,\n",
       " array([1. , 2.1, 3. ]),\n",
       " array([[1. , 2.1, 3. ],\n",
       "        [4. , 2.1, 6. ],\n",
       "        [7. , 8. , 9. ]]),\n",
       " 3)"
      ]
     },
     "execution_count": 33,
     "metadata": {},
     "output_type": "execute_result"
    }
   ],
   "source": [
    "a1[0], a2[0],a3[0], a3.ndim"
   ]
  },
  {
   "cell_type": "code",
   "execution_count": 34,
   "id": "dd9cb307",
   "metadata": {},
   "outputs": [
    {
     "data": {
      "text/plain": [
       "array([[10., 11., 12.],\n",
       "       [13., 14., 15.],\n",
       "       [16., 17., 18.]])"
      ]
     },
     "execution_count": 34,
     "metadata": {},
     "output_type": "execute_result"
    }
   ],
   "source": [
    "a3[1]"
   ]
  },
  {
   "cell_type": "code",
   "execution_count": null,
   "id": "0a598cab",
   "metadata": {},
   "outputs": [],
   "source": []
  },
  {
   "cell_type": "code",
   "execution_count": 35,
   "id": "368ded69",
   "metadata": {},
   "outputs": [
    {
     "data": {
      "text/plain": [
       "array([[[[4, 4, 0, 0, 4],\n",
       "         [0, 4, 5, 7, 1],\n",
       "         [0, 0, 6, 6, 0],\n",
       "         [3, 2, 9, 2, 6]],\n",
       "\n",
       "        [[0, 6, 0, 9, 3],\n",
       "         [6, 9, 3, 2, 4],\n",
       "         [8, 7, 7, 6, 4],\n",
       "         [3, 8, 5, 3, 3]],\n",
       "\n",
       "        [[5, 9, 9, 5, 4],\n",
       "         [5, 2, 5, 4, 4],\n",
       "         [9, 0, 4, 1, 7],\n",
       "         [4, 4, 1, 7, 5]]],\n",
       "\n",
       "\n",
       "       [[[2, 2, 2, 6, 8],\n",
       "         [5, 8, 5, 1, 4],\n",
       "         [8, 4, 3, 5, 4],\n",
       "         [0, 0, 4, 6, 7]],\n",
       "\n",
       "        [[8, 9, 2, 8, 1],\n",
       "         [0, 8, 9, 2, 6],\n",
       "         [9, 5, 9, 7, 2],\n",
       "         [4, 2, 0, 4, 1]],\n",
       "\n",
       "        [[0, 2, 0, 1, 6],\n",
       "         [9, 8, 8, 0, 9],\n",
       "         [4, 3, 9, 2, 2],\n",
       "         [3, 7, 9, 1, 1]]]])"
      ]
     },
     "execution_count": 35,
     "metadata": {},
     "output_type": "execute_result"
    }
   ],
   "source": [
    "random_array_5= np.random.randint(10,size=(2,3,4,5))\n",
    "random_array_5"
   ]
  },
  {
   "cell_type": "code",
   "execution_count": 36,
   "id": "0398b386",
   "metadata": {},
   "outputs": [
    {
     "data": {
      "text/plain": [
       "(2, 3, 4, 5)"
      ]
     },
     "execution_count": 36,
     "metadata": {},
     "output_type": "execute_result"
    }
   ],
   "source": [
    "random_array_5.ndim\n",
    "random_array_5.shape"
   ]
  },
  {
   "cell_type": "code",
   "execution_count": 37,
   "id": "39616d5a",
   "metadata": {},
   "outputs": [
    {
     "data": {
      "text/plain": [
       "array([[[[4, 4],\n",
       "         [0, 4],\n",
       "         [0, 0],\n",
       "         [3, 2]],\n",
       "\n",
       "        [[0, 6],\n",
       "         [6, 9],\n",
       "         [8, 7],\n",
       "         [3, 8]],\n",
       "\n",
       "        [[5, 9],\n",
       "         [5, 2],\n",
       "         [9, 0],\n",
       "         [4, 4]]],\n",
       "\n",
       "\n",
       "       [[[2, 2],\n",
       "         [5, 8],\n",
       "         [8, 4],\n",
       "         [0, 0]],\n",
       "\n",
       "        [[8, 9],\n",
       "         [0, 8],\n",
       "         [9, 5],\n",
       "         [4, 2]],\n",
       "\n",
       "        [[0, 2],\n",
       "         [9, 8],\n",
       "         [4, 3],\n",
       "         [3, 7]]]])"
      ]
     },
     "execution_count": 37,
     "metadata": {},
     "output_type": "execute_result"
    }
   ],
   "source": [
    "#get the first 4 numbers of an inner array\n",
    "random_array_5[:,:,:,:2]"
   ]
  },
  {
   "cell_type": "markdown",
   "id": "4700ab19",
   "metadata": {},
   "source": [
    "## Manupulating Array"
   ]
  },
  {
   "cell_type": "markdown",
   "id": "d878d5b9",
   "metadata": {},
   "source": [
    "Arithmetic Operation"
   ]
  },
  {
   "cell_type": "code",
   "execution_count": 38,
   "id": "dde9010d",
   "metadata": {},
   "outputs": [
    {
     "data": {
      "text/plain": [
       "array([1, 2, 3])"
      ]
     },
     "execution_count": 38,
     "metadata": {},
     "output_type": "execute_result"
    }
   ],
   "source": [
    "a1"
   ]
  },
  {
   "cell_type": "code",
   "execution_count": 39,
   "id": "1d9a8c81",
   "metadata": {},
   "outputs": [
    {
     "data": {
      "text/plain": [
       "array([1., 1., 1.])"
      ]
     },
     "execution_count": 39,
     "metadata": {},
     "output_type": "execute_result"
    }
   ],
   "source": [
    "ones= np.ones(3)\n",
    "ones"
   ]
  },
  {
   "cell_type": "code",
   "execution_count": 40,
   "id": "697b2644",
   "metadata": {},
   "outputs": [
    {
     "data": {
      "text/plain": [
       "(array([2., 3., 4.]),\n",
       " array([[2. , 4.1, 6. ],\n",
       "        [5. , 7. , 9. ]]))"
      ]
     },
     "execution_count": 40,
     "metadata": {},
     "output_type": "execute_result"
    }
   ],
   "source": [
    "## Addition: np.add(a1, a2)\n",
    "a1+ones, np.add(a1,a2)"
   ]
  },
  {
   "cell_type": "code",
   "execution_count": 41,
   "id": "81712246",
   "metadata": {},
   "outputs": [
    {
     "data": {
      "text/plain": [
       "(array([0., 1., 2.]),\n",
       " array([[ 0. , -0.1,  0. ],\n",
       "        [-3. , -3. , -3. ]]))"
      ]
     },
     "execution_count": 41,
     "metadata": {},
     "output_type": "execute_result"
    }
   ],
   "source": [
    "## Subtraction: np.subtract(a1,a2)\n",
    "a1-ones, np.subtract(a1,a2)"
   ]
  },
  {
   "cell_type": "code",
   "execution_count": 42,
   "id": "07bec9be",
   "metadata": {},
   "outputs": [
    {
     "data": {
      "text/plain": [
       "(array([1, 2, 3]),\n",
       " array([[1. , 2.1, 3. ],\n",
       "        [4. , 5. , 6. ]]),\n",
       " array([[ 1. ,  4.2,  9. ],\n",
       "        [ 4. , 10. , 18. ]]),\n",
       " array([[ 1. ,  4.2,  9. ],\n",
       "        [ 4. , 10. , 18. ]]))"
      ]
     },
     "execution_count": 42,
     "metadata": {},
     "output_type": "execute_result"
    }
   ],
   "source": [
    "## Multiplication: np.multiply(a1,a2); must be matrixA column = matrixB row\n",
    "a1,a2,a1*a2, np.multiply(a1,a2)"
   ]
  },
  {
   "cell_type": "code",
   "execution_count": 43,
   "id": "68c0ed41",
   "metadata": {},
   "outputs": [
    {
     "data": {
      "text/plain": [
       "((3,), (2, 3), (2, 3, 3))"
      ]
     },
     "execution_count": 43,
     "metadata": {},
     "output_type": "execute_result"
    }
   ],
   "source": [
    "a1.shape, a2.shape, a3.shape,"
   ]
  },
  {
   "cell_type": "code",
   "execution_count": 44,
   "id": "485c4657",
   "metadata": {},
   "outputs": [
    {
     "data": {
      "text/plain": [
       "(array([1., 2., 3.]), array([1., 2., 3.]))"
      ]
     },
     "execution_count": 44,
     "metadata": {},
     "output_type": "execute_result"
    }
   ],
   "source": [
    "## divide: use / or np.divide(a1, a2)\n",
    "a1/ones, np.divide(a1,ones)"
   ]
  },
  {
   "cell_type": "code",
   "execution_count": 45,
   "id": "c5763c21",
   "metadata": {},
   "outputs": [
    {
     "data": {
      "text/plain": [
       "array([[1., 1., 1.],\n",
       "       [4., 2., 2.]])"
      ]
     },
     "execution_count": 45,
     "metadata": {},
     "output_type": "execute_result"
    }
   ],
   "source": [
    "## Floor division Removes the decimals(rounds down)\n",
    "a2//a1"
   ]
  },
  {
   "cell_type": "code",
   "execution_count": 46,
   "id": "2b27232b",
   "metadata": {},
   "outputs": [
    {
     "data": {
      "text/plain": [
       "(array([[  1.   ,   9.261,  27.   ],\n",
       "        [ 64.   , 125.   , 216.   ]]),\n",
       " array([[ 1.  ,  4.41,  9.  ],\n",
       "        [16.  , 25.  , 36.  ]]))"
      ]
     },
     "execution_count": 46,
     "metadata": {},
     "output_type": "execute_result"
    }
   ],
   "source": [
    "a2**3, np.square(a2)"
   ]
  },
  {
   "cell_type": "code",
   "execution_count": 47,
   "id": "5c7111b1",
   "metadata": {},
   "outputs": [
    {
     "data": {
      "text/plain": [
       "(array([1, 2, 3]),\n",
       " array([[1. , 2.1, 3. ],\n",
       "        [4. , 5. , 6. ]]),\n",
       " array([[0., 2., 0.],\n",
       "        [1., 2., 3.]]),\n",
       " array([[0., 2., 0.],\n",
       "        [1., 2., 3.]]))"
      ]
     },
     "execution_count": 47,
     "metadata": {},
     "output_type": "execute_result"
    }
   ],
   "source": [
    "## Reminder: np.reminder(a1,a2)\n",
    "a1, a2, a1%a2, np.remainder(a1,a2)"
   ]
  },
  {
   "cell_type": "code",
   "execution_count": 48,
   "id": "76840d85",
   "metadata": {},
   "outputs": [
    {
     "data": {
      "text/plain": [
       "array([ 2.71828183,  7.3890561 , 20.08553692])"
      ]
     },
     "execution_count": 48,
     "metadata": {},
     "output_type": "execute_result"
    }
   ],
   "source": [
    " ## log\n",
    "np.exp(a1)"
   ]
  },
  {
   "cell_type": "markdown",
   "id": "f5fa1939",
   "metadata": {},
   "source": [
    "## Aggregation\n",
    "Aggregation= performing the same operation on a number of things."
   ]
  },
  {
   "cell_type": "code",
   "execution_count": 49,
   "id": "253c5284",
   "metadata": {},
   "outputs": [
    {
     "data": {
      "text/plain": [
       "list"
      ]
     },
     "execution_count": 49,
     "metadata": {},
     "output_type": "execute_result"
    }
   ],
   "source": [
    "listy_list=[1,2,3]\n",
    "type(listy_list)"
   ]
  },
  {
   "cell_type": "code",
   "execution_count": 50,
   "id": "8e297761",
   "metadata": {},
   "outputs": [
    {
     "data": {
      "text/plain": [
       "6"
      ]
     },
     "execution_count": 50,
     "metadata": {},
     "output_type": "execute_result"
    }
   ],
   "source": [
    "sum(listy_list)"
   ]
  },
  {
   "cell_type": "code",
   "execution_count": 51,
   "id": "32b96ce3",
   "metadata": {},
   "outputs": [
    {
     "data": {
      "text/plain": [
       "(6, 6)"
      ]
     },
     "execution_count": 51,
     "metadata": {},
     "output_type": "execute_result"
    }
   ],
   "source": [
    "sum(a1), np.sum(a1)"
   ]
  },
  {
   "cell_type": "code",
   "execution_count": 52,
   "id": "6b18a112",
   "metadata": {},
   "outputs": [],
   "source": [
    "# Use Python's methods sum on python datatype and use Numpy's methods on Numpy arrays(np.sum())"
   ]
  },
  {
   "cell_type": "code",
   "execution_count": 53,
   "id": "87f9458c",
   "metadata": {},
   "outputs": [
    {
     "data": {
      "text/plain": [
       "100000"
      ]
     },
     "execution_count": 53,
     "metadata": {},
     "output_type": "execute_result"
    }
   ],
   "source": [
    "massive_array=np.random.random(100000)\n",
    "massive_array.size"
   ]
  },
  {
   "cell_type": "code",
   "execution_count": 54,
   "id": "34f29315",
   "metadata": {},
   "outputs": [
    {
     "name": "stdout",
     "output_type": "stream",
     "text": [
      "26 ms ± 1.68 ms per loop (mean ± std. dev. of 7 runs, 10 loops each)\n",
      "187 µs ± 15.4 µs per loop (mean ± std. dev. of 7 runs, 10,000 loops each)\n"
     ]
    }
   ],
   "source": [
    "%timeit sum(massive_array)# Python's sum\n",
    "%timeit np.sum(massive_array) #Nampy's sum"
   ]
  },
  {
   "cell_type": "code",
   "execution_count": 55,
   "id": "f629a667",
   "metadata": {},
   "outputs": [
    {
     "data": {
      "text/plain": [
       "array([[1. , 2.1, 3. ],\n",
       "       [4. , 5. , 6. ]])"
      ]
     },
     "execution_count": 55,
     "metadata": {},
     "output_type": "execute_result"
    }
   ],
   "source": [
    "a2"
   ]
  },
  {
   "cell_type": "code",
   "execution_count": 56,
   "id": "95e1fb15",
   "metadata": {},
   "outputs": [],
   "source": [
    "## SD= a meassure of how spread out a group of numbers is from the mean.\n",
    "## varience= measure of the average degree to which each number is different to the mean.\n",
    "## Higher Varience= wider range of numbers\n",
    "## Lower Varience= lower range of numbers\n",
    "## Sd= squareroot of varience"
   ]
  },
  {
   "cell_type": "code",
   "execution_count": 57,
   "id": "077bb819",
   "metadata": {},
   "outputs": [
    {
     "data": {
      "text/plain": [
       "(1.0, 6.0, 3.516666666666667, 1.6935334527417978, 2.8680555555555554)"
      ]
     },
     "execution_count": 57,
     "metadata": {},
     "output_type": "execute_result"
    }
   ],
   "source": [
    "\n",
    "np.min(a2), np.max(a2), np.mean(a2), np.std(a2), np.var(a2)"
   ]
  },
  {
   "cell_type": "code",
   "execution_count": 58,
   "id": "8cb5ff73",
   "metadata": {},
   "outputs": [
    {
     "data": {
      "text/plain": [
       "1.6935334527417978"
      ]
     },
     "execution_count": 58,
     "metadata": {},
     "output_type": "execute_result"
    }
   ],
   "source": [
    "np.sqrt(np.var(a2))"
   ]
  },
  {
   "cell_type": "markdown",
   "id": "ba6f7525",
   "metadata": {},
   "source": [
    "## SD and Varience"
   ]
  },
  {
   "cell_type": "code",
   "execution_count": 59,
   "id": "64def41d",
   "metadata": {},
   "outputs": [],
   "source": [
    "higer_var_array= np.array([1,100,200,300,4000,5000])\n",
    "low_var_array= np.array([2,4,6,8,10])"
   ]
  },
  {
   "cell_type": "code",
   "execution_count": 60,
   "id": "4f5b3dae",
   "metadata": {},
   "outputs": [
    {
     "data": {
      "text/plain": [
       "(4296133.472222221, 8.0)"
      ]
     },
     "execution_count": 60,
     "metadata": {},
     "output_type": "execute_result"
    }
   ],
   "source": [
    "np.var(higer_var_array), np.var(low_var_array)"
   ]
  },
  {
   "cell_type": "code",
   "execution_count": 61,
   "id": "b46a3591",
   "metadata": {},
   "outputs": [
    {
     "data": {
      "text/plain": [
       "(2072.711623024829, 2.8284271247461903)"
      ]
     },
     "execution_count": 61,
     "metadata": {},
     "output_type": "execute_result"
    }
   ],
   "source": [
    "np.std(higer_var_array), np.std(low_var_array)"
   ]
  },
  {
   "cell_type": "code",
   "execution_count": 62,
   "id": "fcb7cf03",
   "metadata": {},
   "outputs": [
    {
     "data": {
      "text/plain": [
       "(1600.1666666666667, 6.0)"
      ]
     },
     "execution_count": 62,
     "metadata": {},
     "output_type": "execute_result"
    }
   ],
   "source": [
    "np.mean(higer_var_array), np.mean(low_var_array)"
   ]
  },
  {
   "cell_type": "code",
   "execution_count": 63,
   "id": "a5d7a095",
   "metadata": {},
   "outputs": [
    {
     "data": {
      "text/plain": [
       "(array([4., 0., 0., 0., 0., 0., 0., 1., 0., 1.]),\n",
       " array([1.0000e+00, 5.0090e+02, 1.0008e+03, 1.5007e+03, 2.0006e+03,\n",
       "        2.5005e+03, 3.0004e+03, 3.5003e+03, 4.0002e+03, 4.5001e+03,\n",
       "        5.0000e+03]),\n",
       " <BarContainer object of 10 artists>)"
      ]
     },
     "execution_count": 63,
     "metadata": {},
     "output_type": "execute_result"
    },
    {
     "data": {
      "image/png": "[encoded data removed]",
      "text/plain": [
       "<Figure size 640x480 with 1 Axes>"
      ]
     },
     "metadata": {},
     "output_type": "display_data"
    }
   ],
   "source": [
    "%matplotlib inline\n",
    "import matplotlib.pyplot as plt\n",
    "\n",
    "plt.hist(higer_var_array)"
   ]
  },
  {
   "cell_type": "code",
   "execution_count": 64,
   "id": "73939cae",
   "metadata": {},
   "outputs": [
    {
     "data": {
      "text/plain": [
       "(array([1., 0., 1., 0., 0., 1., 0., 1., 0., 1.]),\n",
       " array([ 2. ,  2.8,  3.6,  4.4,  5.2,  6. ,  6.8,  7.6,  8.4,  9.2, 10. ]),\n",
       " <BarContainer object of 10 artists>)"
      ]
     },
     "execution_count": 64,
     "metadata": {},
     "output_type": "execute_result"
    },
    {
     "data": {
      "image/png": "[encoded data removed]",
      "text/plain": [
       "<Figure size 640x480 with 1 Axes>"
      ]
     },
     "metadata": {},
     "output_type": "display_data"
    }
   ],
   "source": [
    "plt.hist(low_var_array)"
   ]
  },
  {
   "cell_type": "markdown",
   "id": "9fa93278",
   "metadata": {},
   "source": [
    "## Reshape and Transposing"
   ]
  },
  {
   "cell_type": "code",
   "execution_count": 65,
   "id": "98fe78d1",
   "metadata": {},
   "outputs": [
    {
     "data": {
      "text/plain": [
       "(array([[1. , 2.1, 3. ],\n",
       "        [4. , 5. , 6. ]]),\n",
       " (2, 3))"
      ]
     },
     "execution_count": 65,
     "metadata": {},
     "output_type": "execute_result"
    }
   ],
   "source": [
    "a2, a2.shape"
   ]
  },
  {
   "cell_type": "code",
   "execution_count": 66,
   "id": "7c468f8c",
   "metadata": {},
   "outputs": [],
   "source": [
    "a2_reshape= a2.reshape(2,3,1)"
   ]
  },
  {
   "cell_type": "code",
   "execution_count": 67,
   "id": "c5755a78",
   "metadata": {},
   "outputs": [
    {
     "data": {
      "text/plain": [
       "(array([[[ 1. ,  2.1,  3. ],\n",
       "         [ 4. ,  2.1,  6. ],\n",
       "         [ 7. ,  8. ,  9. ]],\n",
       " \n",
       "        [[10. , 11. , 12. ],\n",
       "         [13. , 14. , 15. ],\n",
       "         [16. , 17. , 18. ]]]),\n",
       " (2, 3, 3))"
      ]
     },
     "execution_count": 67,
     "metadata": {},
     "output_type": "execute_result"
    }
   ],
   "source": [
    "a3, a3.shape"
   ]
  },
  {
   "cell_type": "code",
   "execution_count": 68,
   "id": "404d0c26",
   "metadata": {},
   "outputs": [
    {
     "data": {
      "text/plain": [
       "((2, 3, 1), (2, 3, 3))"
      ]
     },
     "execution_count": 68,
     "metadata": {},
     "output_type": "execute_result"
    }
   ],
   "source": [
    "a2_reshape.shape, a3.shape"
   ]
  },
  {
   "cell_type": "code",
   "execution_count": 69,
   "id": "321448d4",
   "metadata": {},
   "outputs": [
    {
     "data": {
      "text/plain": [
       "array([[[  1.  ,   2.1 ,   3.  ],\n",
       "        [  8.4 ,   4.41,  12.6 ],\n",
       "        [ 21.  ,  24.  ,  27.  ]],\n",
       "\n",
       "       [[ 40.  ,  44.  ,  48.  ],\n",
       "        [ 65.  ,  70.  ,  75.  ],\n",
       "        [ 96.  , 102.  , 108.  ]]])"
      ]
     },
     "execution_count": 69,
     "metadata": {},
     "output_type": "execute_result"
    }
   ],
   "source": [
    "a2_reshape*a3"
   ]
  },
  {
   "cell_type": "code",
   "execution_count": 70,
   "id": "6ef3cd84",
   "metadata": {},
   "outputs": [
    {
     "data": {
      "text/plain": [
       "(array([[1. , 2.1, 3. ],\n",
       "        [4. , 5. , 6. ]]),\n",
       " array([[1. , 4. ],\n",
       "        [2.1, 5. ],\n",
       "        [3. , 6. ]]))"
      ]
     },
     "execution_count": 70,
     "metadata": {},
     "output_type": "execute_result"
    }
   ],
   "source": [
    "#Transpose= switches the axis\n",
    "a2, a2.T"
   ]
  },
  {
   "cell_type": "code",
   "execution_count": 71,
   "id": "8ebd362d",
   "metadata": {},
   "outputs": [
    {
     "data": {
      "text/plain": [
       "((2, 3), (3, 2))"
      ]
     },
     "execution_count": 71,
     "metadata": {},
     "output_type": "execute_result"
    }
   ],
   "source": [
    "a2.shape, a2.T.shape"
   ]
  },
  {
   "cell_type": "code",
   "execution_count": 72,
   "id": "06da7484",
   "metadata": {},
   "outputs": [
    {
     "data": {
      "text/plain": [
       "(array([[1. , 4. ],\n",
       "        [2.1, 5. ],\n",
       "        [3. , 6. ]]),\n",
       " array([[1. , 2.1, 3. ],\n",
       "        [4. , 5. , 6. ]]))"
      ]
     },
     "execution_count": 72,
     "metadata": {},
     "output_type": "execute_result"
    }
   ],
   "source": [
    "a2.T, a2"
   ]
  },
  {
   "cell_type": "code",
   "execution_count": null,
   "id": "c870a04d",
   "metadata": {},
   "outputs": [],
   "source": []
  },
  {
   "cell_type": "markdown",
   "id": "decf7d39",
   "metadata": {},
   "source": [
    "## Dot Product vs Element wise"
   ]
  },
  {
   "cell_type": "code",
   "execution_count": 106,
   "id": "bf429a89",
   "metadata": {},
   "outputs": [],
   "source": [
    "np.random.seed(0)\n",
    "mat1=np.random.randint(10, size=(5,3))\n",
    "mat2=np.random.randint(10, size=(5,3))"
   ]
  },
  {
   "cell_type": "code",
   "execution_count": 107,
   "id": "00e34a10",
   "metadata": {},
   "outputs": [
    {
     "data": {
      "text/plain": [
       "(array([[5, 0, 3],\n",
       "        [3, 7, 9],\n",
       "        [3, 5, 2],\n",
       "        [4, 7, 6],\n",
       "        [8, 8, 1]]),\n",
       " array([[6, 7, 7],\n",
       "        [8, 1, 5],\n",
       "        [9, 8, 9],\n",
       "        [4, 3, 0],\n",
       "        [3, 5, 0]]),\n",
       " (5, 3),\n",
       " (5, 3),\n",
       " 2,\n",
       " 2)"
      ]
     },
     "execution_count": 107,
     "metadata": {},
     "output_type": "execute_result"
    }
   ],
   "source": [
    "mat1, mat2, mat1.shape, mat2.shape, mat1.ndim, mat2.ndim"
   ]
  },
  {
   "cell_type": "code",
   "execution_count": 115,
   "id": "cce6b46a",
   "metadata": {},
   "outputs": [
    {
     "data": {
      "text/plain": [
       "array([[30,  0, 21],\n",
       "       [24,  7, 45],\n",
       "       [27, 40, 18],\n",
       "       [16, 21,  0],\n",
       "       [24, 40,  0]])"
      ]
     },
     "execution_count": 115,
     "metadata": {},
     "output_type": "execute_result"
    }
   ],
   "source": [
    "#Element wise multiplication(Hadamadr product) element wise. binary operations are performed on an element-by-element basis\n",
    "mat1*mat2"
   ]
  },
  {
   "cell_type": "code",
   "execution_count": 116,
   "id": "6acaafd5",
   "metadata": {},
   "outputs": [
    {
     "ename": "ValueError",
     "evalue": "shapes (5,3) and (5,3) not aligned: 3 (dim 1) != 5 (dim 0)",
     "output_type": "error",
     "traceback": [
      "\u001b[1;31m---------------------------------------------------------------------------\u001b[0m",
      "\u001b[1;31mValueError\u001b[0m                                Traceback (most recent call last)",
      "Cell \u001b[1;32mIn[116], line 1\u001b[0m\n\u001b[1;32m----> 1\u001b[0m \u001b[43mnp\u001b[49m\u001b[38;5;241;43m.\u001b[39;49m\u001b[43mdot\u001b[49m\u001b[43m(\u001b[49m\u001b[43mmat1\u001b[49m\u001b[43m,\u001b[49m\u001b[43m \u001b[49m\u001b[43mmat2\u001b[49m\u001b[43m)\u001b[49m\n",
      "File \u001b[1;32m<__array_function__ internals>:180\u001b[0m, in \u001b[0;36mdot\u001b[1;34m(*args, **kwargs)\u001b[0m\n",
      "\u001b[1;31mValueError\u001b[0m: shapes (5,3) and (5,3) not aligned: 3 (dim 1) != 5 (dim 0)"
     ]
    }
   ],
   "source": [
    " \n",
    "np.dot(mat1, mat2)"
   ]
  },
  {
   "cell_type": "code",
   "execution_count": 112,
   "id": "684b1f06",
   "metadata": {},
   "outputs": [
    {
     "data": {
      "text/plain": [
       "array([[5, 3, 3, 4, 8],\n",
       "       [0, 7, 5, 7, 8],\n",
       "       [3, 9, 2, 6, 1]])"
      ]
     },
     "execution_count": 112,
     "metadata": {},
     "output_type": "execute_result"
    }
   ],
   "source": [
    " #Transpose Mat1\n",
    "mat1.T"
   ]
  },
  {
   "cell_type": "code",
   "execution_count": 117,
   "id": "1ea01ea7",
   "metadata": {},
   "outputs": [
    {
     "data": {
      "text/plain": [
       "((5, 3), (3, 5))"
      ]
     },
     "execution_count": 117,
     "metadata": {},
     "output_type": "execute_result"
    }
   ],
   "source": [
    "mat1.shape, mat2.T.shape"
   ]
  },
  {
   "cell_type": "code",
   "execution_count": 118,
   "id": "1561e488",
   "metadata": {},
   "outputs": [
    {
     "data": {
      "text/plain": [
       "(array([[ 51,  55,  72,  20,  15],\n",
       "        [130,  76, 164,  33,  44],\n",
       "        [ 67,  39,  85,  27,  34],\n",
       "        [115,  69, 146,  37,  47],\n",
       "        [111,  77, 145,  56,  64]]),\n",
       " (3, 5),\n",
       " (5, 3))"
      ]
     },
     "execution_count": 118,
     "metadata": {},
     "output_type": "execute_result"
    }
   ],
   "source": [
    "mat3=np.dot(mat1, mat2.T)\n",
    "mat3, mat1.T.shape, mat2.shape"
   ]
  },
  {
   "cell_type": "code",
   "execution_count": null,
   "id": "b93e2215",
   "metadata": {},
   "outputs": [],
   "source": []
  },
  {
   "cell_type": "markdown",
   "id": "b163bb48",
   "metadata": {},
   "source": [
    "## Exercise Nutt Butter Sales"
   ]
  },
  {
   "cell_type": "code",
   "execution_count": 122,
   "id": "8ae2935c",
   "metadata": {},
   "outputs": [
    {
     "data": {
      "text/plain": [
       "array([[12, 15,  0],\n",
       "       [ 3,  3,  7],\n",
       "       [ 9, 19, 18],\n",
       "       [ 4,  6, 12],\n",
       "       [ 1,  6,  7]])"
      ]
     },
     "execution_count": 122,
     "metadata": {},
     "output_type": "execute_result"
    }
   ],
   "source": [
    "np.random.seed(0)\n",
    "sales_amounts= np.random.randint(20, size=(5,3))\n",
    "sales_amounts"
   ]
  },
  {
   "cell_type": "code",
   "execution_count": 127,
   "id": "07a1818e",
   "metadata": {},
   "outputs": [
    {
     "data": {
      "text/html": [
       "<div>\n",
       "<style scoped>\n",
       "    .dataframe tbody tr th:only-of-type {\n",
       "        vertical-align: middle;\n",
       "    }\n",
       "\n",
       "    .dataframe tbody tr th {\n",
       "        vertical-align: top;\n",
       "    }\n",
       "\n",
       "    .dataframe thead th {\n",
       "        text-align: right;\n",
       "    }\n",
       "</style>\n",
       "<table border=\"1\" class=\"dataframe\">\n",
       "  <thead>\n",
       "    <tr style=\"text-align: right;\">\n",
       "      <th></th>\n",
       "      <th>Almond Butter</th>\n",
       "      <th>Peanut Butter</th>\n",
       "      <th>Cashew Butter</th>\n",
       "    </tr>\n",
       "  </thead>\n",
       "  <tbody>\n",
       "    <tr>\n",
       "      <th>Mon</th>\n",
       "      <td>12</td>\n",
       "      <td>15</td>\n",
       "      <td>0</td>\n",
       "    </tr>\n",
       "    <tr>\n",
       "      <th>Tues</th>\n",
       "      <td>3</td>\n",
       "      <td>3</td>\n",
       "      <td>7</td>\n",
       "    </tr>\n",
       "    <tr>\n",
       "      <th>Wed</th>\n",
       "      <td>9</td>\n",
       "      <td>19</td>\n",
       "      <td>18</td>\n",
       "    </tr>\n",
       "    <tr>\n",
       "      <th>Thurs</th>\n",
       "      <td>4</td>\n",
       "      <td>6</td>\n",
       "      <td>12</td>\n",
       "    </tr>\n",
       "    <tr>\n",
       "      <th>Fri</th>\n",
       "      <td>1</td>\n",
       "      <td>6</td>\n",
       "      <td>7</td>\n",
       "    </tr>\n",
       "  </tbody>\n",
       "</table>\n",
       "</div>"
      ],
      "text/plain": [
       "       Almond Butter  Peanut Butter  Cashew Butter\n",
       "Mon               12             15              0\n",
       "Tues               3              3              7\n",
       "Wed                9             19             18\n",
       "Thurs              4              6             12\n",
       "Fri                1              6              7"
      ]
     },
     "execution_count": 127,
     "metadata": {},
     "output_type": "execute_result"
    }
   ],
   "source": [
    "#sales DataFrame\n",
    "weekly_sales= pd.DataFrame(sales_amounts,index=[\"Mon\",\"Tues\", \"Wed\",\"Thurs\",\"Fri\"], columns=[\"Almond Butter\",\"Peanut Butter\", \"Cashew Butter\"])\n",
    "weekly_sales"
   ]
  },
  {
   "cell_type": "code",
   "execution_count": 131,
   "id": "b8fdbb44",
   "metadata": {},
   "outputs": [
    {
     "data": {
      "text/plain": [
       "(array([10,  8, 12]), (3,))"
      ]
     },
     "execution_count": 131,
     "metadata": {},
     "output_type": "execute_result"
    }
   ],
   "source": [
    "#create price array\n",
    "prices= np.array([10,8,12])\n",
    "prices, prices.shape"
   ]
  },
  {
   "cell_type": "code",
   "execution_count": 132,
   "id": "50507cde",
   "metadata": {},
   "outputs": [
    {
     "data": {
      "text/html": [
       "<div>\n",
       "<style scoped>\n",
       "    .dataframe tbody tr th:only-of-type {\n",
       "        vertical-align: middle;\n",
       "    }\n",
       "\n",
       "    .dataframe tbody tr th {\n",
       "        vertical-align: top;\n",
       "    }\n",
       "\n",
       "    .dataframe thead th {\n",
       "        text-align: right;\n",
       "    }\n",
       "</style>\n",
       "<table border=\"1\" class=\"dataframe\">\n",
       "  <thead>\n",
       "    <tr style=\"text-align: right;\">\n",
       "      <th></th>\n",
       "      <th>Almond Butter</th>\n",
       "      <th>Peanut Butter</th>\n",
       "      <th>Cashew Butter</th>\n",
       "    </tr>\n",
       "  </thead>\n",
       "  <tbody>\n",
       "    <tr>\n",
       "      <th>Price</th>\n",
       "      <td>10</td>\n",
       "      <td>8</td>\n",
       "      <td>12</td>\n",
       "    </tr>\n",
       "  </tbody>\n",
       "</table>\n",
       "</div>"
      ],
      "text/plain": [
       "       Almond Butter  Peanut Butter  Cashew Butter\n",
       "Price             10              8             12"
      ]
     },
     "execution_count": 132,
     "metadata": {},
     "output_type": "execute_result"
    }
   ],
   "source": [
    "butter_prices=pd.DataFrame(prices.reshape(1,3), index=[\"Price\"] , columns=[\"Almond Butter\",\"Peanut Butter\", \"Cashew Butter\"])\n",
    "butter_prices"
   ]
  },
  {
   "cell_type": "code",
   "execution_count": 134,
   "id": "0658ce18",
   "metadata": {},
   "outputs": [
    {
     "data": {
      "text/plain": [
       "array([[12, 15,  0],\n",
       "       [ 3,  3,  7],\n",
       "       [ 9, 19, 18],\n",
       "       [ 4,  6, 12],\n",
       "       [ 1,  6,  7]])"
      ]
     },
     "execution_count": 134,
     "metadata": {},
     "output_type": "execute_result"
    }
   ],
   "source": [
    "sales_amount,"
   ]
  },
  {
   "cell_type": "code",
   "execution_count": 139,
   "id": "e150d2dc",
   "metadata": {},
   "outputs": [
    {
     "data": {
      "text/plain": [
       "array([240, 138, 458, 232, 142])"
      ]
     },
     "execution_count": 139,
     "metadata": {},
     "output_type": "execute_result"
    }
   ],
   "source": [
    "daily_sales=np.dot(prices,weekly_sales.T)\n",
    "daily_sales"
   ]
  },
  {
   "cell_type": "code",
   "execution_count": 141,
   "id": "781d5335",
   "metadata": {},
   "outputs": [
    {
     "data": {
      "text/html": [
       "<div>\n",
       "<style scoped>\n",
       "    .dataframe tbody tr th:only-of-type {\n",
       "        vertical-align: middle;\n",
       "    }\n",
       "\n",
       "    .dataframe tbody tr th {\n",
       "        vertical-align: top;\n",
       "    }\n",
       "\n",
       "    .dataframe thead th {\n",
       "        text-align: right;\n",
       "    }\n",
       "</style>\n",
       "<table border=\"1\" class=\"dataframe\">\n",
       "  <thead>\n",
       "    <tr style=\"text-align: right;\">\n",
       "      <th></th>\n",
       "      <th>Almond Butter</th>\n",
       "      <th>Peanut Butter</th>\n",
       "      <th>Cashew Butter</th>\n",
       "      <th>Total ($)</th>\n",
       "    </tr>\n",
       "  </thead>\n",
       "  <tbody>\n",
       "    <tr>\n",
       "      <th>Mon</th>\n",
       "      <td>12</td>\n",
       "      <td>15</td>\n",
       "      <td>0</td>\n",
       "      <td>240</td>\n",
       "    </tr>\n",
       "    <tr>\n",
       "      <th>Tues</th>\n",
       "      <td>3</td>\n",
       "      <td>3</td>\n",
       "      <td>7</td>\n",
       "      <td>138</td>\n",
       "    </tr>\n",
       "    <tr>\n",
       "      <th>Wed</th>\n",
       "      <td>9</td>\n",
       "      <td>19</td>\n",
       "      <td>18</td>\n",
       "      <td>458</td>\n",
       "    </tr>\n",
       "    <tr>\n",
       "      <th>Thurs</th>\n",
       "      <td>4</td>\n",
       "      <td>6</td>\n",
       "      <td>12</td>\n",
       "      <td>232</td>\n",
       "    </tr>\n",
       "    <tr>\n",
       "      <th>Fri</th>\n",
       "      <td>1</td>\n",
       "      <td>6</td>\n",
       "      <td>7</td>\n",
       "      <td>142</td>\n",
       "    </tr>\n",
       "  </tbody>\n",
       "</table>\n",
       "</div>"
      ],
      "text/plain": [
       "       Almond Butter  Peanut Butter  Cashew Butter  Total ($)\n",
       "Mon               12             15              0        240\n",
       "Tues               3              3              7        138\n",
       "Wed                9             19             18        458\n",
       "Thurs              4              6             12        232\n",
       "Fri                1              6              7        142"
      ]
     },
     "execution_count": 141,
     "metadata": {},
     "output_type": "execute_result"
    }
   ],
   "source": [
    "weekly_sales[\"Total ($)\"]= daily_sales\n",
    "weekly_sales"
   ]
  },
  {
   "cell_type": "markdown",
   "id": "e461c681",
   "metadata": {},
   "source": [
    "## Comparising Operators"
   ]
  },
  {
   "cell_type": "code",
   "execution_count": 145,
   "id": "0a462ed3",
   "metadata": {},
   "outputs": [
    {
     "data": {
      "text/plain": [
       "(array([[False, False, False],\n",
       "        [False, False, False]]),\n",
       " array([[False, False, False],\n",
       "        [False, False, False]]))"
      ]
     },
     "execution_count": 145,
     "metadata": {},
     "output_type": "execute_result"
    }
   ],
   "source": [
    "a1>a2, np.greater(a1,a2)"
   ]
  },
  {
   "cell_type": "code",
   "execution_count": 144,
   "id": "5a01542e",
   "metadata": {},
   "outputs": [
    {
     "data": {
      "text/plain": [
       "(array([[ True, False,  True],\n",
       "        [False, False, False]]),\n",
       " array([[ True, False,  True],\n",
       "        [False, False, False]]))"
      ]
     },
     "execution_count": 144,
     "metadata": {},
     "output_type": "execute_result"
    }
   ],
   "source": [
    "a1>=a2, np.greater_equal(a1,a2)"
   ]
  },
  {
   "cell_type": "code",
   "execution_count": 146,
   "id": "513c5e56",
   "metadata": {},
   "outputs": [
    {
     "data": {
      "text/plain": [
       "(array([[False,  True, False],\n",
       "        [ True,  True,  True]]),\n",
       " array([[False,  True, False],\n",
       "        [ True,  True,  True]]))"
      ]
     },
     "execution_count": 146,
     "metadata": {},
     "output_type": "execute_result"
    }
   ],
   "source": [
    "a1<a2, np.less(a1,a2)"
   ]
  },
  {
   "cell_type": "markdown",
   "id": "8f1cf798",
   "metadata": {},
   "source": [
    "## Shorting Arrays"
   ]
  },
  {
   "cell_type": "code",
   "execution_count": 149,
   "id": "45daa398",
   "metadata": {},
   "outputs": [
    {
     "data": {
      "text/plain": [
       "array([[7, 8, 1, 5, 9],\n",
       "       [8, 9, 4, 3, 0],\n",
       "       [3, 5, 0, 2, 3]])"
      ]
     },
     "execution_count": 149,
     "metadata": {},
     "output_type": "execute_result"
    }
   ],
   "source": [
    "np.random.seed(0)\n",
    "random_sorting= np.random.randint(10, size=(3,5))\n",
    "random_sorting"
   ]
  },
  {
   "cell_type": "code",
   "execution_count": 150,
   "id": "c08f0661",
   "metadata": {},
   "outputs": [
    {
     "data": {
      "text/plain": [
       "array([[1, 5, 7, 8, 9],\n",
       "       [0, 3, 4, 8, 9],\n",
       "       [0, 2, 3, 3, 5]])"
      ]
     },
     "execution_count": 150,
     "metadata": {},
     "output_type": "execute_result"
    }
   ],
   "source": [
    "# sorting: np.short\n",
    "np.sort(random_sorting)"
   ]
  },
  {
   "cell_type": "code",
   "execution_count": 151,
   "id": "66f85eb2",
   "metadata": {},
   "outputs": [
    {
     "data": {
      "text/plain": [
       "array([[2, 3, 0, 1, 4],\n",
       "       [4, 3, 2, 0, 1],\n",
       "       [2, 3, 0, 4, 1]], dtype=int64)"
      ]
     },
     "execution_count": 151,
     "metadata": {},
     "output_type": "execute_result"
    }
   ],
   "source": [
    "## It returns an array of indices of the same shape as a that index data along the given axis in sorted order.\n",
    "np.argsort(random_sorting)"
   ]
  },
  {
   "cell_type": "code",
   "execution_count": 159,
   "id": "933b88d2",
   "metadata": {},
   "outputs": [
    {
     "data": {
      "text/plain": [
       "(array([[7, 8, 1, 5, 9],\n",
       "        [8, 9, 4, 3, 0],\n",
       "        [3, 5, 0, 2, 3]]),\n",
       " array([4, 1, 1], dtype=int64))"
      ]
     },
     "execution_count": 159,
     "metadata": {},
     "output_type": "execute_result"
    }
   ],
   "source": [
    "## return the index number of sorting value\n",
    "random_sorting, np.argmax(random_sorting, axis=1)"
   ]
  },
  {
   "cell_type": "code",
   "execution_count": 163,
   "id": "f541e5c2",
   "metadata": {},
   "outputs": [
    {
     "data": {
      "text/plain": [
       "(array([[7, 8, 1, 5, 9],\n",
       "        [8, 9, 4, 3, 0],\n",
       "        [3, 5, 0, 2, 3]]),\n",
       " array([1, 1, 1, 0, 0], dtype=int64))"
      ]
     },
     "execution_count": 163,
     "metadata": {},
     "output_type": "execute_result"
    }
   ],
   "source": [
    "random_sorting, np.argmax(random_sorting, axis=0)"
   ]
  },
  {
   "cell_type": "code",
   "execution_count": 164,
   "id": "c1b9056a",
   "metadata": {},
   "outputs": [
    {
     "data": {
      "text/plain": [
       "(array([[7, 8, 1, 5, 9],\n",
       "        [8, 9, 4, 3, 0],\n",
       "        [3, 5, 0, 2, 3]]),\n",
       " array([2, 4, 2], dtype=int64))"
      ]
     },
     "execution_count": 164,
     "metadata": {},
     "output_type": "execute_result"
    }
   ],
   "source": [
    "random_sorting, np.argmin(random_sorting, axis=1)"
   ]
  },
  {
   "cell_type": "code",
   "execution_count": 166,
   "id": "8437fa79",
   "metadata": {},
   "outputs": [
    {
     "data": {
      "text/plain": [
       "(array([[7, 8, 1, 5, 9],\n",
       "        [8, 9, 4, 3, 0],\n",
       "        [3, 5, 0, 2, 3]]),\n",
       " array([2, 2, 2, 2, 1], dtype=int64))"
      ]
     },
     "execution_count": 166,
     "metadata": {},
     "output_type": "execute_result"
    }
   ],
   "source": [
    "random_sorting, np.argmin(random_sorting, axis=0)"
   ]
  },
  {
   "cell_type": "markdown",
   "id": "a3dbd012",
   "metadata": {},
   "source": [
    "## Turn Images into numpy arrays"
   ]
  },
  {
   "cell_type": "markdown",
   "id": "c0a157a9",
   "metadata": {},
   "source": [
    "<image src=\"numpy-images/panda.png\"/>"
   ]
  },
  {
   "cell_type": "code",
   "execution_count": 173,
   "id": "ea457565",
   "metadata": {},
   "outputs": [
    {
     "data": {
      "text/html": [
       "<img src=\"numpy-images/panda.png\"/>\n"
      ],
      "text/plain": [
       "<IPython.core.display.HTML object>"
      ]
     },
     "metadata": {},
     "output_type": "display_data"
    }
   ],
   "source": [
    "%%html\n",
    "<img src=\"numpy-images/panda.png\"/>"
   ]
  },
  {
   "cell_type": "code",
   "execution_count": 178,
   "id": "fd68a52a",
   "metadata": {},
   "outputs": [
    {
     "name": "stdout",
     "output_type": "stream",
     "text": [
      "<class 'numpy.ndarray'>\n"
     ]
    }
   ],
   "source": [
    "# turn an image into numpy array\n",
    "from matplotlib.image import imread \n",
    "\n",
    "panda= imread(\"numpy-images/panda.png\")\n",
    "print(type(panda))"
   ]
  },
  {
   "cell_type": "code",
   "execution_count": 180,
   "id": "442a026a",
   "metadata": {},
   "outputs": [
    {
     "data": {
      "text/plain": [
       "(array([[[0.05490196, 0.10588235, 0.06666667],\n",
       "         [0.05490196, 0.10588235, 0.06666667],\n",
       "         [0.05490196, 0.10588235, 0.06666667],\n",
       "         ...,\n",
       "         [0.16470589, 0.12941177, 0.09411765],\n",
       "         [0.16470589, 0.12941177, 0.09411765],\n",
       "         [0.16470589, 0.12941177, 0.09411765]],\n",
       " \n",
       "        [[0.05490196, 0.10588235, 0.06666667],\n",
       "         [0.05490196, 0.10588235, 0.06666667],\n",
       "         [0.05490196, 0.10588235, 0.06666667],\n",
       "         ...,\n",
       "         [0.16470589, 0.12941177, 0.09411765],\n",
       "         [0.16470589, 0.12941177, 0.09411765],\n",
       "         [0.16470589, 0.12941177, 0.09411765]],\n",
       " \n",
       "        [[0.05490196, 0.10588235, 0.06666667],\n",
       "         [0.05490196, 0.10588235, 0.06666667],\n",
       "         [0.05490196, 0.10588235, 0.06666667],\n",
       "         ...,\n",
       "         [0.16470589, 0.12941177, 0.09411765],\n",
       "         [0.16470589, 0.12941177, 0.09411765],\n",
       "         [0.16470589, 0.12941177, 0.09411765]],\n",
       " \n",
       "        ...,\n",
       " \n",
       "        [[0.13333334, 0.07450981, 0.05490196],\n",
       "         [0.12156863, 0.0627451 , 0.04313726],\n",
       "         [0.10980392, 0.05098039, 0.03137255],\n",
       "         ...,\n",
       "         [0.02745098, 0.02745098, 0.03529412],\n",
       "         [0.02745098, 0.02745098, 0.03529412],\n",
       "         [0.02745098, 0.02745098, 0.03529412]],\n",
       " \n",
       "        [[0.13333334, 0.07450981, 0.05490196],\n",
       "         [0.12156863, 0.0627451 , 0.04313726],\n",
       "         [0.12156863, 0.0627451 , 0.04313726],\n",
       "         ...,\n",
       "         [0.02352941, 0.02352941, 0.03137255],\n",
       "         [0.02352941, 0.02352941, 0.03137255],\n",
       "         [0.02352941, 0.02352941, 0.03137255]],\n",
       " \n",
       "        [[0.13333334, 0.07450981, 0.05490196],\n",
       "         [0.12156863, 0.0627451 , 0.04313726],\n",
       "         [0.12156863, 0.0627451 , 0.04313726],\n",
       "         ...,\n",
       "         [0.02352941, 0.02352941, 0.03137255],\n",
       "         [0.02352941, 0.02352941, 0.03137255],\n",
       "         [0.02352941, 0.02352941, 0.03137255]]], dtype=float32),\n",
       " (2330, 3500, 3),\n",
       " 24465000,\n",
       " 3)"
      ]
     },
     "execution_count": 180,
     "metadata": {},
     "output_type": "execute_result"
    }
   ],
   "source": [
    "panda, panda.shape, panda.size, panda.ndim"
   ]
  },
  {
   "cell_type": "code",
   "execution_count": null,
   "id": "4431ff0a",
   "metadata": {},
   "outputs": [],
   "source": []
  }
 ],
 "metadata": {
  "kernelspec": {
   "display_name": "Python 3 (ipykernel)",
   "language": "python",
   "name": "python3"
  },
  "language_info": {
   "codemirror_mode": {
    "name": "ipython",
    "version": 3
   },
   "file_extension": ".py",
   "mimetype": "text/x-python",
   "name": "python",
   "nbconvert_exporter": "python",
   "pygments_lexer": "ipython3",
   "version": "3.10.9"
  }
 },
 "nbformat": 4,
 "nbformat_minor": 5
}
